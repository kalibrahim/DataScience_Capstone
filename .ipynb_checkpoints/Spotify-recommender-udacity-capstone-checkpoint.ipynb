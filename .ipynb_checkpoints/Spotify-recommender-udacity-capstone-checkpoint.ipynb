{
 "cells": [
  {
   "cell_type": "markdown",
   "metadata": {},
   "source": [
    "# Building a Song Recommender\n",
    "I always had an imense love for music and I figured to channel my appreiciation for music into data science and take a shot at making song recommendation. I am using Spotify's dataset from Kaggle. I will leave a link to the dataset in the README.md doc. \n",
    "I don't expect this to be a walk in the park, as this is a new problem for me. I have never built a song recommendation engine before so this will be interesting to figure out. "
   ]
  },
  {
   "cell_type": "markdown",
   "metadata": {},
   "source": [
    "## Setup\n",
    "I am using Spotify's API to import my playlist into this notebook. https://developer.spotify.com/dashboard/login. Use my client ID and secert to run this notebook."
   ]
  },
  {
   "cell_type": "code",
   "execution_count": 1,
   "metadata": {},
   "outputs": [],
   "source": [
    "import pandas as pd\n",
    "import numpy as np\n",
    "import seaborn as sns\n",
    "import matplotlib.pyplot as plt\n",
    "import spotipy\n",
    "import spotipy.util as util\n",
    "import xgboost as xgb\n",
    "\n",
    "from spotipy.oauth2 import SpotifyClientCredentials\n",
    "from sklearn.model_selection import train_test_split\n",
    "from sklearn.preprocessing import MinMaxScaler\n",
    "from sklearn.linear_model import LogisticRegression\n",
    "from sklearn.neighbors import KNeighborsClassifier\n",
    "from sklearn.ensemble import RandomForestClassifier\n",
    "from sklearn.tree import DecisionTreeClassifier\n",
    "from sklearn.decomposition import PCA\n",
    "from sklearn.cluster import KMeans"
   ]
  },
  {
   "cell_type": "markdown",
   "metadata": {},
   "source": [
    "## Musical Tempo\n",
    "Music tempo is the amount of beats per minute or as known as BPM. Different music genres have different BPMs \n",
    "Generally speaking each of these genres have these equavlent BPMs\n",
    "\n",
    "| Genre | Tempo/BPM |\n",
    "| --- | --- |\n",
    "| Reggae | 60-90 BPM |\n",
    "| Hip-hop | 85-95 BPM|\n",
    "| Pop | 100-130 BPM |\n",
    "| Rock | 110 - 140 |\n",
    "| Glitch hop | 105-115 BPM |\n",
    "| House | 118-135 BPM |\n",
    "| Tech House | 120-135 BPM |\n",
    "| Techno | 120-125 BPM |\n",
    "| Electro House | 125-130 BPM |\n",
    "| Trance | 130-145 BPM |\n",
    "| Dubstep | 140+ BPM |\n",
    "| Drum & Bass | 165-185 BPM |\n"
   ]
  },
  {
   "cell_type": "code",
   "execution_count": 2,
   "metadata": {
    "scrolled": true
   },
   "outputs": [],
   "source": [
    "#Login and auth token\n",
    "client = '17a64fb26bab4b6f96fbbb31a04ce3f9'\n",
    "secret = '741506f6590a47fdb4aaa3a060ee4c6b'\n",
    "username = 'Khalid'\n",
    "redirect_uri = 'https://developer.spotify.com/dashboard/applications/17a64fb26bab4b6f96fbbb31a04ce3f9'\n",
    "scope = 'user-library-read playlist-modify-public playlist-read-private'\n",
    "\n",
    "client_cred_manager = SpotifyClientCredentials(client_id=client, client_secret=secret)\n",
    "sp = spotipy.Spotify(client_credentials_manager= client_cred_manager)\n",
    "token = util.prompt_for_user_token(username, scope, client, secret, redirect_uri)\n",
    "\n",
    "if token:\n",
    "    sp = spotipy.Spotify(auth=token)\n",
    "else:\n",
    "    print(\"Can't get token for username: \", username)"
   ]
  },
  {
   "cell_type": "markdown",
   "metadata": {},
   "source": [
    "Load the playlist from our Spotify library using Spotipy's package into a dataframe. We're going to pull information about each song such as danceablity, energy, acousticness, etc. We will be using these features to run our model. To read more about these features use this link: https://developer.spotify.com/documentation/web-api/reference/object-model/#audio-features-object"
   ]
  },
  {
   "cell_type": "code",
   "execution_count": 3,
   "metadata": {},
   "outputs": [],
   "source": [
    "def create_df(userID, playlistID):\n",
    "    '''\n",
    "    Function to get all songs of username from a specific playlistID and\n",
    "    load it into a DF\n",
    "    \n",
    "    Args: \n",
    "        userID (str): Spotify username\n",
    "        playlistID (str): Spotify playlist ID\n",
    "        \n",
    "    Return:\n",
    "        playlist (pd DataFrame): dataframe of loaded playlist. \n",
    "    '''\n",
    "    #load playlist\n",
    "    good_playlist = sp.user_playlist(userID, playlistID)\n",
    "    songs = good_playlist[\"tracks\"][\"items\"]\n",
    "\n",
    "    #an array of track ids (to find audio features) and create an array of song names\n",
    "    track_ids = []\n",
    "    song_names = []\n",
    "    for i in songs:\n",
    "        track_ids.append(i[\"track\"][\"id\"])\n",
    "        song_names.append(i[\"track\"][\"name\"])\n",
    "\n",
    "    #loop through to get audio features\n",
    "    features = []\n",
    "    for i in track_ids:\n",
    "        for track in sp.audio_features(i):\n",
    "            features.append(track)\n",
    "\n",
    "    playlist_df = pd.DataFrame(features, index=song_names)\n",
    "    return playlist_df"
   ]
  },
  {
   "cell_type": "markdown",
   "metadata": {},
   "source": [
    "Load a couple of playlists into different dataframes and combine them in the end to the a mix of songs that I like. Do the same thing for songs that I dislike."
   ]
  },
  {
   "cell_type": "code",
   "execution_count": 4,
   "metadata": {
    "scrolled": false
   },
   "outputs": [
    {
     "data": {
      "text/html": [
       "<div>\n",
       "<style scoped>\n",
       "    .dataframe tbody tr th:only-of-type {\n",
       "        vertical-align: middle;\n",
       "    }\n",
       "\n",
       "    .dataframe tbody tr th {\n",
       "        vertical-align: top;\n",
       "    }\n",
       "\n",
       "    .dataframe thead th {\n",
       "        text-align: right;\n",
       "    }\n",
       "</style>\n",
       "<table border=\"1\" class=\"dataframe\">\n",
       "  <thead>\n",
       "    <tr style=\"text-align: right;\">\n",
       "      <th></th>\n",
       "      <th>acousticness</th>\n",
       "      <th>analysis_url</th>\n",
       "      <th>danceability</th>\n",
       "      <th>duration_ms</th>\n",
       "      <th>energy</th>\n",
       "      <th>id</th>\n",
       "      <th>instrumentalness</th>\n",
       "      <th>key</th>\n",
       "      <th>liveness</th>\n",
       "      <th>loudness</th>\n",
       "      <th>mode</th>\n",
       "      <th>speechiness</th>\n",
       "      <th>tempo</th>\n",
       "      <th>time_signature</th>\n",
       "      <th>track_href</th>\n",
       "      <th>type</th>\n",
       "      <th>uri</th>\n",
       "      <th>valence</th>\n",
       "    </tr>\n",
       "  </thead>\n",
       "  <tbody>\n",
       "    <tr>\n",
       "      <th>TIME</th>\n",
       "      <td>0.00627</td>\n",
       "      <td>https://api.spotify.com/v1/audio-analysis/108r...</td>\n",
       "      <td>0.768</td>\n",
       "      <td>166000</td>\n",
       "      <td>0.808</td>\n",
       "      <td>108r6pnZHStBIktpyyps9w</td>\n",
       "      <td>0.000005</td>\n",
       "      <td>5</td>\n",
       "      <td>0.3430</td>\n",
       "      <td>-1.818</td>\n",
       "      <td>1</td>\n",
       "      <td>0.1120</td>\n",
       "      <td>119.971</td>\n",
       "      <td>4</td>\n",
       "      <td>https://api.spotify.com/v1/tracks/108r6pnZHStB...</td>\n",
       "      <td>audio_features</td>\n",
       "      <td>spotify:track:108r6pnZHStBIktpyyps9w</td>\n",
       "      <td>0.664</td>\n",
       "    </tr>\n",
       "    <tr>\n",
       "      <th>Falling - Radio Edit</th>\n",
       "      <td>0.00752</td>\n",
       "      <td>https://api.spotify.com/v1/audio-analysis/2jTJ...</td>\n",
       "      <td>0.446</td>\n",
       "      <td>230551</td>\n",
       "      <td>0.928</td>\n",
       "      <td>2jTJ9q2tLYJnElfIkiPwPZ</td>\n",
       "      <td>0.000019</td>\n",
       "      <td>0</td>\n",
       "      <td>0.5060</td>\n",
       "      <td>-6.482</td>\n",
       "      <td>0</td>\n",
       "      <td>0.0907</td>\n",
       "      <td>127.012</td>\n",
       "      <td>4</td>\n",
       "      <td>https://api.spotify.com/v1/tracks/2jTJ9q2tLYJn...</td>\n",
       "      <td>audio_features</td>\n",
       "      <td>spotify:track:2jTJ9q2tLYJnElfIkiPwPZ</td>\n",
       "      <td>0.239</td>\n",
       "    </tr>\n",
       "    <tr>\n",
       "      <th>Space Between</th>\n",
       "      <td>0.01220</td>\n",
       "      <td>https://api.spotify.com/v1/audio-analysis/72tb...</td>\n",
       "      <td>0.702</td>\n",
       "      <td>199921</td>\n",
       "      <td>0.595</td>\n",
       "      <td>72tb3B98H3vAZIyR2MLA6p</td>\n",
       "      <td>0.472000</td>\n",
       "      <td>11</td>\n",
       "      <td>0.1080</td>\n",
       "      <td>-8.295</td>\n",
       "      <td>0</td>\n",
       "      <td>0.0356</td>\n",
       "      <td>124.007</td>\n",
       "      <td>5</td>\n",
       "      <td>https://api.spotify.com/v1/tracks/72tb3B98H3vA...</td>\n",
       "      <td>audio_features</td>\n",
       "      <td>spotify:track:72tb3B98H3vAZIyR2MLA6p</td>\n",
       "      <td>0.483</td>\n",
       "    </tr>\n",
       "    <tr>\n",
       "      <th>Higher</th>\n",
       "      <td>0.00810</td>\n",
       "      <td>https://api.spotify.com/v1/audio-analysis/4uQz...</td>\n",
       "      <td>0.472</td>\n",
       "      <td>288189</td>\n",
       "      <td>0.881</td>\n",
       "      <td>4uQzfUUpSPtP8378Qg5aTo</td>\n",
       "      <td>0.111000</td>\n",
       "      <td>6</td>\n",
       "      <td>0.3660</td>\n",
       "      <td>-6.182</td>\n",
       "      <td>1</td>\n",
       "      <td>0.0491</td>\n",
       "      <td>127.014</td>\n",
       "      <td>4</td>\n",
       "      <td>https://api.spotify.com/v1/tracks/4uQzfUUpSPtP...</td>\n",
       "      <td>audio_features</td>\n",
       "      <td>spotify:track:4uQzfUUpSPtP8378Qg5aTo</td>\n",
       "      <td>0.240</td>\n",
       "    </tr>\n",
       "    <tr>\n",
       "      <th>Together</th>\n",
       "      <td>0.09850</td>\n",
       "      <td>https://api.spotify.com/v1/audio-analysis/48Cd...</td>\n",
       "      <td>0.461</td>\n",
       "      <td>287370</td>\n",
       "      <td>0.848</td>\n",
       "      <td>48CdOwO1Ense11v5a2Q4bm</td>\n",
       "      <td>0.000051</td>\n",
       "      <td>3</td>\n",
       "      <td>0.0784</td>\n",
       "      <td>-5.065</td>\n",
       "      <td>1</td>\n",
       "      <td>0.0692</td>\n",
       "      <td>128.009</td>\n",
       "      <td>4</td>\n",
       "      <td>https://api.spotify.com/v1/tracks/48CdOwO1Ense...</td>\n",
       "      <td>audio_features</td>\n",
       "      <td>spotify:track:48CdOwO1Ense11v5a2Q4bm</td>\n",
       "      <td>0.278</td>\n",
       "    </tr>\n",
       "  </tbody>\n",
       "</table>\n",
       "</div>"
      ],
      "text/plain": [
       "                      acousticness  \\\n",
       "TIME                       0.00627   \n",
       "Falling - Radio Edit       0.00752   \n",
       "Space Between              0.01220   \n",
       "Higher                     0.00810   \n",
       "Together                   0.09850   \n",
       "\n",
       "                                                           analysis_url  \\\n",
       "TIME                  https://api.spotify.com/v1/audio-analysis/108r...   \n",
       "Falling - Radio Edit  https://api.spotify.com/v1/audio-analysis/2jTJ...   \n",
       "Space Between         https://api.spotify.com/v1/audio-analysis/72tb...   \n",
       "Higher                https://api.spotify.com/v1/audio-analysis/4uQz...   \n",
       "Together              https://api.spotify.com/v1/audio-analysis/48Cd...   \n",
       "\n",
       "                      danceability  duration_ms  energy  \\\n",
       "TIME                         0.768       166000   0.808   \n",
       "Falling - Radio Edit         0.446       230551   0.928   \n",
       "Space Between                0.702       199921   0.595   \n",
       "Higher                       0.472       288189   0.881   \n",
       "Together                     0.461       287370   0.848   \n",
       "\n",
       "                                          id  instrumentalness  key  liveness  \\\n",
       "TIME                  108r6pnZHStBIktpyyps9w          0.000005    5    0.3430   \n",
       "Falling - Radio Edit  2jTJ9q2tLYJnElfIkiPwPZ          0.000019    0    0.5060   \n",
       "Space Between         72tb3B98H3vAZIyR2MLA6p          0.472000   11    0.1080   \n",
       "Higher                4uQzfUUpSPtP8378Qg5aTo          0.111000    6    0.3660   \n",
       "Together              48CdOwO1Ense11v5a2Q4bm          0.000051    3    0.0784   \n",
       "\n",
       "                      loudness  mode  speechiness    tempo  time_signature  \\\n",
       "TIME                    -1.818     1       0.1120  119.971               4   \n",
       "Falling - Radio Edit    -6.482     0       0.0907  127.012               4   \n",
       "Space Between           -8.295     0       0.0356  124.007               5   \n",
       "Higher                  -6.182     1       0.0491  127.014               4   \n",
       "Together                -5.065     1       0.0692  128.009               4   \n",
       "\n",
       "                                                             track_href  \\\n",
       "TIME                  https://api.spotify.com/v1/tracks/108r6pnZHStB...   \n",
       "Falling - Radio Edit  https://api.spotify.com/v1/tracks/2jTJ9q2tLYJn...   \n",
       "Space Between         https://api.spotify.com/v1/tracks/72tb3B98H3vA...   \n",
       "Higher                https://api.spotify.com/v1/tracks/4uQzfUUpSPtP...   \n",
       "Together              https://api.spotify.com/v1/tracks/48CdOwO1Ense...   \n",
       "\n",
       "                                type                                   uri  \\\n",
       "TIME                  audio_features  spotify:track:108r6pnZHStBIktpyyps9w   \n",
       "Falling - Radio Edit  audio_features  spotify:track:2jTJ9q2tLYJnElfIkiPwPZ   \n",
       "Space Between         audio_features  spotify:track:72tb3B98H3vAZIyR2MLA6p   \n",
       "Higher                audio_features  spotify:track:4uQzfUUpSPtP8378Qg5aTo   \n",
       "Together              audio_features  spotify:track:48CdOwO1Ense11v5a2Q4bm   \n",
       "\n",
       "                      valence  \n",
       "TIME                    0.664  \n",
       "Falling - Radio Edit    0.239  \n",
       "Space Between           0.483  \n",
       "Higher                  0.240  \n",
       "Together                0.278  "
      ]
     },
     "execution_count": 4,
     "metadata": {},
     "output_type": "execute_result"
    }
   ],
   "source": [
    "like_id = '4Bc92r2zL1zt22AikSodG4'\n",
    "like_df = create_df(username, like_id)\n",
    "\n",
    "like_playlist2_id = '5377x4KvJVl5Y4U6pakCf4'\n",
    "like_playlist2_df = create_df(username, like_playlist2_id)\n",
    "\n",
    "like_playlist3_id = '5CKGtvDsggH7g7UWhMqmSL'\n",
    "like_playlist3_df = create_df(username, like_playlist3_id)\n",
    "\n",
    "frames_like = [like_df, like_playlist2_df, like_playlist3_df]\n",
    "\n",
    "like_all_df = pd.concat(frames_like)\n",
    "like_all_df.head()"
   ]
  },
  {
   "cell_type": "code",
   "execution_count": null,
   "metadata": {},
   "outputs": [],
   "source": [
    "like_all_df.info()"
   ]
  },
  {
   "cell_type": "code",
   "execution_count": null,
   "metadata": {},
   "outputs": [],
   "source": [
    "dislike_id = '37i9dQZF1DX1WSnLRtI26o'\n",
    "dislike_df = create_df(username, dislike_id)\n",
    "\n",
    "dislike_playlist2_id = '37i9dQZEVXbLRQDuF5jeBp'\n",
    "dislike_playlist2_df = create_df(username, dislike_playlist2_id)\n",
    "\n",
    "dislike_playlist3_id = '37i9dQZF1DWY4xHQp97fN6'\n",
    "dislike_playlist3_df = create_df(username, dislike_playlist3_id)\n",
    "\n",
    "frames_dislike = [dislike_df, dislike_playlist2_df, dislike_playlist3_df]\n",
    "\n",
    "dislike_all_df = pd.concat(frames_dislike)\n",
    "dislike_all_df.head()"
   ]
  },
  {
   "cell_type": "code",
   "execution_count": null,
   "metadata": {},
   "outputs": [],
   "source": [
    "dislike_all_df.info()"
   ]
  },
  {
   "cell_type": "code",
   "execution_count": null,
   "metadata": {},
   "outputs": [],
   "source": [
    "like_all_df = like_df.drop(columns=[\"analysis_url\", \"id\", \"track_href\", \"type\", \"uri\"])\n",
    "dislike_all_df = dislike_df.drop(columns=[\"analysis_url\", \"id\", \"track_href\", \"type\", \"uri\"])"
   ]
  },
  {
   "cell_type": "markdown",
   "metadata": {},
   "source": [
    "## Visualizing"
   ]
  },
  {
   "cell_type": "markdown",
   "metadata": {},
   "source": [
    "Now that we have loaded our dataframes and removed features that won't help with modeling, let's visualize these features and comapred them with the liked and disliked."
   ]
  },
  {
   "cell_type": "code",
   "execution_count": null,
   "metadata": {
    "scrolled": true
   },
   "outputs": [],
   "source": [
    "sns.distplot(like_all_df['acousticness'],color ='blue', label='likes')\n",
    "sns.distplot(dislike_all_df['acousticness'], color ='r', label='dislikes')\n",
    "plt.legend()\n",
    "plt.show()"
   ]
  },
  {
   "cell_type": "markdown",
   "metadata": {},
   "source": [
    "We can see that both dataframes do not have much acousticness to their properties. This means that a future recommended song will probably not have much acoustiness to it."
   ]
  },
  {
   "cell_type": "code",
   "execution_count": null,
   "metadata": {},
   "outputs": [],
   "source": [
    "sns.distplot(like_all_df['loudness'],color ='blue', label='likes')\n",
    "sns.distplot(dislike_all_df['loudness'], color ='r', label='dislikes')\n",
    "plt.legend()\n",
    "plt.show()"
   ]
  },
  {
   "cell_type": "markdown",
   "metadata": {},
   "source": [
    "We can see for the loudness we have both disliked and liked songs that are in the negative zone, which means that these songs were't mixed or recorded with a high deceible. "
   ]
  },
  {
   "cell_type": "code",
   "execution_count": null,
   "metadata": {
    "scrolled": true
   },
   "outputs": [],
   "source": [
    "sns.distplot(like_all_df['danceability'],color ='blue', label='likes')\n",
    "sns.distplot(dislike_all_df['danceability'], color ='r', label='dislikes')\n",
    "plt.legend()\n",
    "plt.show()"
   ]
  },
  {
   "cell_type": "markdown",
   "metadata": {},
   "source": [
    "The distribution of liked danceable songs are mostly on 0.6, though there is a higher spread of disliked songs. "
   ]
  },
  {
   "cell_type": "code",
   "execution_count": null,
   "metadata": {},
   "outputs": [],
   "source": [
    "sns.distplot(like_all_df['energy'],color ='blue', label='likes')\n",
    "sns.distplot(dislike_all_df['energy'], color ='r', label='dislikes')\n",
    "plt.legend()\n",
    "plt.show()"
   ]
  },
  {
   "cell_type": "markdown",
   "metadata": {},
   "source": [
    "It seems that most of the songs that I liked have high energy, which is about right. I tend to enjoy music that excites me. This will indicate that my model will have a higher weight on the song's energy to recommend me a new song."
   ]
  },
  {
   "cell_type": "code",
   "execution_count": null,
   "metadata": {
    "scrolled": true
   },
   "outputs": [],
   "source": [
    "sns.distplot(like_all_df['instrumentalness'],color ='blue', label='likes')\n",
    "sns.distplot(dislike_all_df['instrumentalness'], color ='r', label='dislikes')\n",
    "plt.legend()\n",
    "plt.show()"
   ]
  },
  {
   "cell_type": "code",
   "execution_count": null,
   "metadata": {
    "scrolled": true
   },
   "outputs": [],
   "source": [
    "sns.distplot(like_all_df['liveness'],color ='blue', label='likes')\n",
    "sns.distplot(dislike_all_df['liveness'], color ='r', label='dislikes')\n",
    "plt.legend()\n",
    "plt.show()"
   ]
  },
  {
   "cell_type": "markdown",
   "metadata": {},
   "source": [
    "There are more disliked songs that are in the 0.0 and 0.2 range, and for liked tracks they are spread on the scale."
   ]
  },
  {
   "cell_type": "code",
   "execution_count": null,
   "metadata": {},
   "outputs": [],
   "source": [
    "sns.distplot(like_all_df['speechiness'],color ='blue', label='likes')\n",
    "sns.distplot(dislike_all_df['speechiness'], color ='r', label='dislikes')\n",
    "plt.legend()\n",
    "plt.show()"
   ]
  },
  {
   "cell_type": "code",
   "execution_count": null,
   "metadata": {
    "scrolled": true
   },
   "outputs": [],
   "source": [
    "sns.distplot(like_all_df['valence'],color ='blue', label='likes')\n",
    "sns.distplot(dislike_all_df['valence'], color ='r', label='dislikes')\n",
    "plt.legend()\n",
    "plt.show()"
   ]
  },
  {
   "cell_type": "markdown",
   "metadata": {},
   "source": [
    "There seem to be more valence in songs that I dislike. This is odd, because I tend to lean more towards songs that are cheerful and happy. "
   ]
  },
  {
   "cell_type": "code",
   "execution_count": null,
   "metadata": {
    "scrolled": true
   },
   "outputs": [],
   "source": [
    "sns.distplot(like_all_df['time_signature'],color ='blue', label='likes')\n",
    "sns.distplot(dislike_all_df['time_signature'], color ='r', label='dislikes')\n",
    "plt.legend()\n",
    "plt.show()"
   ]
  },
  {
   "cell_type": "markdown",
   "metadata": {},
   "source": [
    "## Feature Engineering\n",
    "Let's add new features to our dataframes, we can improve our modeling score by add features such as expoclit lyics, popularity and then combining it all in one final dataframe."
   ]
  },
  {
   "cell_type": "code",
   "execution_count": null,
   "metadata": {},
   "outputs": [],
   "source": [
    "def find_popularity(userID, playlistID):\n",
    "    '''\n",
    "    Function to find song's popularity, pull this inforamtion from spotipy \n",
    "    \n",
    "    Args:\n",
    "        userID (str): Spotify's username\n",
    "        playlistID (str): Spotifly's playlist ID\n",
    "    returns:\n",
    "        popularity (int): popularity score 0-100\n",
    "    '''\n",
    "    \n",
    "    playlist = sp.user_playlist(userID, playlistID)\n",
    "    songs = playlist[\"tracks\"][\"items\"]\n",
    "    popularity = []\n",
    "    for i in songs:\n",
    "        popularity.append(i[\"track\"][\"popularity\"])\n",
    "    return popularity"
   ]
  },
  {
   "cell_type": "code",
   "execution_count": null,
   "metadata": {},
   "outputs": [],
   "source": [
    "like_popularity = find_popularity(username, like_id)\n",
    "dislike_popularity = find_popularity(username, dislike_id)"
   ]
  },
  {
   "cell_type": "code",
   "execution_count": null,
   "metadata": {},
   "outputs": [],
   "source": [
    "like_all_df['popularity'] = like_popularity\n",
    "dislike_all_df['popularity'] = dislike_popularity\n",
    "like_all_df.head()"
   ]
  },
  {
   "cell_type": "code",
   "execution_count": null,
   "metadata": {},
   "outputs": [],
   "source": [
    "dislike_all_df.head()"
   ]
  },
  {
   "cell_type": "code",
   "execution_count": null,
   "metadata": {},
   "outputs": [],
   "source": [
    "sns.distplot(like_all_df['popularity'], color='b', label='likes')\n",
    "sns.distplot(dislike_all_df['popularity'], color='r', label='dislikes')\n",
    "plt.legend()\n",
    "plt.show()"
   ]
  },
  {
   "cell_type": "code",
   "execution_count": null,
   "metadata": {},
   "outputs": [],
   "source": [
    "def find_explicit(userID, playlistID):\n",
    "    '''\n",
    "    Function to create an explicit feature pull from Spotify's API\n",
    "    \n",
    "    Args:\n",
    "        userID (str): Spotify username\n",
    "        playlistID (str): Spotify playlist ID\n",
    "    \n",
    "    return:\n",
    "        explicit (Bool): If song is explicit = True else False\n",
    "    '''\n",
    "    playlist = sp.user_playlist(userID, playlistID)\n",
    "    songs = playlist['tracks']['items']\n",
    "    explicit = []\n",
    "    for i in songs:\n",
    "        explicit.append(i['track']['explicit'])\n",
    "    return explicit"
   ]
  },
  {
   "cell_type": "code",
   "execution_count": null,
   "metadata": {},
   "outputs": [],
   "source": [
    "like_explicit = find_explicit(username, like_id)\n",
    "dislike_explicit = find_explicit(username, dislike_id)"
   ]
  },
  {
   "cell_type": "code",
   "execution_count": null,
   "metadata": {},
   "outputs": [],
   "source": [
    "like_all_df['explicit'] = like_explicit\n",
    "dislike_all_df['explicit'] = dislike_explicit\n",
    "like_all_df.tail()"
   ]
  },
  {
   "cell_type": "code",
   "execution_count": null,
   "metadata": {
    "scrolled": true
   },
   "outputs": [],
   "source": [
    "dislike_all_df.head()"
   ]
  },
  {
   "cell_type": "markdown",
   "metadata": {},
   "source": [
    "### Classification\n",
    "Before combining our dataframes, create a feature to set a target variable which tells the model if we like the song or not. We are going to create a binary feature, which state if we like the song then show 1 else 0."
   ]
  },
  {
   "cell_type": "code",
   "execution_count": null,
   "metadata": {},
   "outputs": [],
   "source": [
    "# Add array of 1's to liked_df\n",
    "like_all_df['like/dislike'] = [1] * (len(like_df))\n",
    "dislike_all_df['like/dislike'] = [0] * (len(dislike_df))\n",
    "like_all_df.head()"
   ]
  },
  {
   "cell_type": "code",
   "execution_count": null,
   "metadata": {},
   "outputs": [],
   "source": [
    "#concate\n",
    "train_data = pd.concat([like_all_df, dislike_all_df])\n",
    "train_data"
   ]
  },
  {
   "cell_type": "code",
   "execution_count": null,
   "metadata": {},
   "outputs": [],
   "source": [
    "#Plot correlation and see which features have a higher effect on our target variable\n",
    "plt.figure(figsize=(12,12))\n",
    "ax = sns.heatmap(train_data.corr(),annot=True , cmap='winter')"
   ]
  },
  {
   "cell_type": "markdown",
   "metadata": {},
   "source": [
    "## Modeling\n",
    "Now for the fun part. First we need to split out dataset into a train and test set. I am going to split the ratio to 70% training and 30% test. "
   ]
  },
  {
   "cell_type": "code",
   "execution_count": null,
   "metadata": {
    "scrolled": false
   },
   "outputs": [],
   "source": [
    "train, test = train_test_split(train_data, test_size = 0.3, random_state = 42)\n",
    "train.head()"
   ]
  },
  {
   "cell_type": "markdown",
   "metadata": {},
   "source": []
  },
  {
   "cell_type": "code",
   "execution_count": null,
   "metadata": {},
   "outputs": [],
   "source": [
    "feats = ['acousticness', 'instrumentalness', 'liveness', 'loudness', 'energy', \n",
    "         'danceability', 'speechiness', 'valence', 'popularity', 'tempo']\n",
    "X_train = train[feats]\n",
    "y_train = train['like/dislike']\n",
    "X_test = test[feats]\n",
    "y_test = test['like/dislike']"
   ]
  },
  {
   "cell_type": "markdown",
   "metadata": {},
   "source": [
    "### Logistic Regression"
   ]
  },
  {
   "cell_type": "code",
   "execution_count": null,
   "metadata": {},
   "outputs": [],
   "source": [
    "#logistic regression\n",
    "lr = LogisticRegression()\n",
    "lr.fit(X_train, y_train)\n",
    "y_pred = lr.predict(X_test)\n",
    "lr.score(X_test, y_test)"
   ]
  },
  {
   "cell_type": "markdown",
   "metadata": {},
   "source": [
    "### K-nearest Neighbors"
   ]
  },
  {
   "cell_type": "code",
   "execution_count": null,
   "metadata": {},
   "outputs": [],
   "source": [
    "#KNeighbors\n",
    "knn = KNeighborsClassifier(5)\n",
    "knn.fit(X_train, y_train)\n",
    "y_pred = knn.predict(X_test)\n",
    "knn.score(X_test, y_test)"
   ]
  },
  {
   "cell_type": "markdown",
   "metadata": {},
   "source": [
    "### Random Forest Classification"
   ]
  },
  {
   "cell_type": "code",
   "execution_count": null,
   "metadata": {},
   "outputs": [],
   "source": [
    "#RandomForest\n",
    "rf = RandomForestClassifier(max_depth=5, n_estimators=10, max_features=2)\n",
    "rf.fit(X_train, y_train)\n",
    "y_pred = rf.predict(X_test)\n",
    "rf.score(X_test, y_test)"
   ]
  },
  {
   "cell_type": "markdown",
   "metadata": {},
   "source": [
    "### Decision Tree "
   ]
  },
  {
   "cell_type": "code",
   "execution_count": null,
   "metadata": {},
   "outputs": [],
   "source": [
    "#DecisonTree\n",
    "dt = DecisionTreeClassifier(min_samples_split=90)\n",
    "dt.fit(X_train, y_train)\n",
    "y_pred = dt.predict(X_test)\n",
    "dt.score(X_test, y_test)"
   ]
  },
  {
   "cell_type": "markdown",
   "metadata": {},
   "source": [
    "### XGBoost"
   ]
  },
  {
   "cell_type": "code",
   "execution_count": null,
   "metadata": {},
   "outputs": [],
   "source": [
    "#Xgboost\n",
    "xg = xgb.XGBClassifier(n_estimators=200, max_depth=10, learning_rate=0.01, subsample=0.5)\n",
    "xg.fit(X_train, y_train)\n",
    "y_pred = xg.predict(X_test)\n",
    "xg.score(X_test, y_test)"
   ]
  },
  {
   "cell_type": "code",
   "execution_count": null,
   "metadata": {},
   "outputs": [],
   "source": []
  },
  {
   "cell_type": "code",
   "execution_count": null,
   "metadata": {},
   "outputs": [],
   "source": [
    "X_train_scaled = MinMaxScaler().fit_transform(X_train)\n",
    "\n",
    "X_train_scaled = pd.DataFrame(X_train_scaled, columns=X_train.columns, index=X_train.index)"
   ]
  },
  {
   "cell_type": "code",
   "execution_count": null,
   "metadata": {
    "scrolled": true
   },
   "outputs": [],
   "source": [
    "dummy_pca = PCA(n_components=0.95, random_state=42).fit(X_train_scaled)\n",
    "\n",
    "print(\"PCA has {} comps\".format(dummy_pca.n_components_))\n",
    "print(\"Variance is {}\".format(sum(dummy_pca.explained_variance_ratio_)))"
   ]
  },
  {
   "cell_type": "code",
   "execution_count": null,
   "metadata": {},
   "outputs": [],
   "source": []
  }
 ],
 "metadata": {
  "kernelspec": {
   "display_name": "Python 3",
   "language": "python",
   "name": "python3"
  },
  "language_info": {
   "codemirror_mode": {
    "name": "ipython",
    "version": 3
   },
   "file_extension": ".py",
   "mimetype": "text/x-python",
   "name": "python",
   "nbconvert_exporter": "python",
   "pygments_lexer": "ipython3",
   "version": "3.7.3"
  }
 },
 "nbformat": 4,
 "nbformat_minor": 2
}
